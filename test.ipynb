{
 "cells": [
  {
   "cell_type": "code",
   "execution_count": 2,
   "metadata": {},
   "outputs": [
    {
     "name": "stdout",
     "output_type": "stream",
     "text": [
      "[0.0, 0.4114, 0.2851, 0.0709, 0.0936]\n"
     ]
    }
   ],
   "source": [
    "i=0\n",
    "a=[0.0,0.0,0.0,0.0,0.0]\n",
    "with open('images/9.txt','r') as f:\n",
    "    for line in f:\n",
    "        for word in line.split():\n",
    "            a[i]=float(word) \n",
    "            i=i+1\n",
    "print a          "
   ]
  },
  {
   "cell_type": "code",
   "execution_count": 22,
   "metadata": {},
   "outputs": [
    {
     "ename": "IndentationError",
     "evalue": "expected an indented block (<ipython-input-22-c5d977224726>, line 29)",
     "output_type": "error",
     "traceback": [
      "\u001b[0;36m  File \u001b[0;32m\"<ipython-input-22-c5d977224726>\"\u001b[0;36m, line \u001b[0;32m29\u001b[0m\n\u001b[0;31m    for line in f:\u001b[0m\n\u001b[0m      ^\u001b[0m\n\u001b[0;31mIndentationError\u001b[0m\u001b[0;31m:\u001b[0m expected an indented block\n"
     ]
    }
   ],
   "source": [
    "import cv2\n",
    "import os\n",
    "from PIL import Image\n",
    "def convert(num,size):\n",
    "    dw = size[0]\n",
    "    dh = size[1]\n",
    "    num[1] = num[1]*dw\n",
    "    num[3] = num[3]*dw\n",
    "    num[2] = num[2]*dh\n",
    "    num[4] = num[4]*dh\n",
    "    x=num[1]-(num[3]/2)\n",
    "    y=num[2]-(num[4]/2)\n",
    "    w=num[3]\n",
    "    h=num[4] \n",
    "    return (int(round(x)),int(round(y)),int(round(w)),int(round(h)))\n",
    "import glob\n",
    "\n",
    "txtfiles = []\n",
    "count=1\n",
    "cls_id=0\n",
    "for file1 in glob.glob1(os.getcwd(), \"*.png\"):\n",
    "        nameout=file1[:file1.find(\".png\")]\n",
    "        i=0\n",
    "        im = Image.open('images/'+nameout+'.png')\n",
    "        print nameout\n",
    "        s=im.size\n",
    "        a=[0.0,0.0,0.0,0.0,0.0]\n",
    "        with open(nameout+'.txt','r') as f:\n",
    "        for line in f:\n",
    "                for word in line.split():\n",
    "                    a[i]=float(word) \n",
    "                    i=i+1  \n",
    "        f.close()\n",
    "        bb = convert(a,s)\n",
    "        print bb\n",
    "        f= open('bbox/'+nameout+\".txt\",\"w\")\n",
    "        f.write(\" \".join([str(int(round(a))) for a in bb]) + \"\\n\")\n",
    "        f.close()\n",
    "        img = cv2.imread(nameout+\".png\")\n",
    "        crop_img = img[bb[1]:bb[1]+bb[3], bb[0]:bb[0]+bb[2]]\n",
    "        cv2.imshow(\"cropped\", crop_img)\n",
    "        cv2.waitKey(0)\n",
    "        cv2.imwrite(\"crop/\"+nameout+\".png\", crop_img);\n",
    "       \n",
    "        "
   ]
  },
  {
   "cell_type": "code",
   "execution_count": null,
   "metadata": {},
   "outputs": [],
   "source": []
  }
 ],
 "metadata": {
  "kernelspec": {
   "display_name": "Python 2",
   "language": "python",
   "name": "python2"
  },
  "language_info": {
   "codemirror_mode": {
    "name": "ipython",
    "version": 2
   },
   "file_extension": ".py",
   "mimetype": "text/x-python",
   "name": "python",
   "nbconvert_exporter": "python",
   "pygments_lexer": "ipython2",
   "version": "2.7.14"
  }
 },
 "nbformat": 4,
 "nbformat_minor": 2
}
